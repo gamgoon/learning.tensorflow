{
 "cells": [
  {
   "cell_type": "code",
   "execution_count": 1,
   "metadata": {},
   "outputs": [],
   "source": [
    "import tensorflow as tf"
   ]
  },
  {
   "cell_type": "code",
   "execution_count": 2,
   "metadata": {},
   "outputs": [],
   "source": [
    "import numpy as np"
   ]
  },
  {
   "cell_type": "code",
   "execution_count": 3,
   "metadata": {},
   "outputs": [],
   "source": [
    "a = tf.constant(5)\n",
    "b = tf.constant(2)\n",
    "c = tf.constant(3)"
   ]
  },
  {
   "cell_type": "code",
   "execution_count": 4,
   "metadata": {},
   "outputs": [],
   "source": [
    "d = tf.multiply(a,b) # 7\n",
    "e = tf.add(c,b) # 5\n",
    "f = tf.subtract(d,e) "
   ]
  },
  {
   "cell_type": "code",
   "execution_count": 5,
   "metadata": {},
   "outputs": [
    {
     "name": "stdout",
     "output_type": "stream",
     "text": [
      "outs = 5\n"
     ]
    }
   ],
   "source": [
    "sess = tf.Session()\n",
    "outs = sess.run(f)\n",
    "sess.close()\n",
    "print(\"outs = {}\".format(outs))"
   ]
  },
  {
   "cell_type": "code",
   "execution_count": 8,
   "metadata": {},
   "outputs": [
    {
     "name": "stdout",
     "output_type": "stream",
     "text": [
      "<tensorflow.python.framework.ops.Graph object at 0x182082e7b8>\n",
      "<tensorflow.python.framework.ops.Graph object at 0x182082ee10>\n"
     ]
    }
   ],
   "source": [
    "print(tf.get_default_graph())\n",
    "g = tf.Graph()\n",
    "print(g)"
   ]
  },
  {
   "cell_type": "code",
   "execution_count": 9,
   "metadata": {},
   "outputs": [
    {
     "name": "stdout",
     "output_type": "stream",
     "text": [
      "False\n",
      "True\n"
     ]
    }
   ],
   "source": [
    "g =tf.Graph()\n",
    "a = tf.constant(5)\n",
    "print(a.graph is g)\n",
    "print(a.graph is tf.get_default_graph())"
   ]
  },
  {
   "cell_type": "code",
   "execution_count": 11,
   "metadata": {},
   "outputs": [
    {
     "name": "stdout",
     "output_type": "stream",
     "text": [
      "True\n",
      "False\n",
      "True\n"
     ]
    }
   ],
   "source": [
    "g1 = tf.get_default_graph()\n",
    "g2 = tf.Graph()\n",
    "print(g1 is tf.get_default_graph())\n",
    "\n",
    "with g2.as_default():\n",
    "    print(g1 is tf.get_default_graph())\n",
    "    \n",
    "print(g1 is tf.get_default_graph())"
   ]
  },
  {
   "cell_type": "code",
   "execution_count": 12,
   "metadata": {},
   "outputs": [
    {
     "name": "stdout",
     "output_type": "stream",
     "text": [
      "outs = [5, 2, 3, 10, 5, 5]\n",
      "<class 'numpy.int32'>\n"
     ]
    }
   ],
   "source": [
    "with tf.Session() as sess:\n",
    "    fetches = [a, b, c, d, e, f]\n",
    "    outs = sess.run(fetches)\n",
    "    \n",
    "print(\"outs = {}\".format(outs))\n",
    "print(type(outs[0]))"
   ]
  },
  {
   "cell_type": "code",
   "execution_count": 13,
   "metadata": {},
   "outputs": [],
   "source": []
  },
  {
   "cell_type": "code",
   "execution_count": 15,
   "metadata": {},
   "outputs": [
    {
     "name": "stdout",
     "output_type": "stream",
     "text": [
      "Tensor(\"Const_5:0\", shape=(), dtype=float64)\n",
      "<dtype: 'float64'>\n"
     ]
    }
   ],
   "source": [
    "c = tf.constant(4.0, dtype=tf.float64)\n",
    "print(c)\n",
    "print(c.dtype)"
   ]
  },
  {
   "cell_type": "code",
   "execution_count": 16,
   "metadata": {},
   "outputs": [
    {
     "name": "stdout",
     "output_type": "stream",
     "text": [
      "<dtype: 'float32'>\n",
      "<dtype: 'int64'>\n"
     ]
    }
   ],
   "source": [
    "x = tf.constant([1,2,3], name='x', dtype=tf.float32)\n",
    "print(x.dtype)\n",
    "x = tf.cast(x, tf.int64)\n",
    "print(x.dtype)"
   ]
  },
  {
   "cell_type": "code",
   "execution_count": 17,
   "metadata": {},
   "outputs": [
    {
     "name": "stdout",
     "output_type": "stream",
     "text": [
      "Python List input: (2, 3)\n"
     ]
    }
   ],
   "source": [
    "c = tf.constant([[1,2,3],\n",
    "                  [4,5,6]])\n",
    "print(\"Python List input: {}\".format(c.get_shape()))"
   ]
  },
  {
   "cell_type": "code",
   "execution_count": 18,
   "metadata": {},
   "outputs": [
    {
     "name": "stdout",
     "output_type": "stream",
     "text": [
      "(2, 2, 3)\n",
      "3d NumPy array input: (2, 2, 3)\n"
     ]
    }
   ],
   "source": [
    "c = tf.constant(np.array([\n",
    "                     [[1,2,3],\n",
    "                      [4,5,6]],\n",
    "                     [[1,1,1],\n",
    "                      [2,2,2]]\n",
    "                     ]))\n",
    "print(c.get_shape())\n",
    "print(\"3d NumPy array input: {}\".format(c.get_shape()))"
   ]
  },
  {
   "cell_type": "code",
   "execution_count": 22,
   "metadata": {},
   "outputs": [
    {
     "name": "stdout",
     "output_type": "stream",
     "text": [
      "The content of 'c':\n",
      " [0.         0.08163265 0.1632653  0.24489796 0.3265306  0.40816325\n",
      " 0.48979592 0.57142854 0.6530612  0.7346939  0.8163265  0.8979592\n",
      " 0.97959185 1.0612245  1.1428571  1.2244898  1.3061224  1.387755\n",
      " 1.4693878  1.5510204  1.632653   1.7142857  1.7959183  1.877551\n",
      " 1.9591837  2.0408163  2.122449   2.2040815  2.2857141  2.367347\n",
      " 2.4489796  2.5306122  2.6122448  2.6938775  2.77551    2.8571427\n",
      " 2.9387755  3.0204082  3.1020408  3.1836734  3.265306   3.3469386\n",
      " 3.4285715  3.510204   3.5918367  3.6734693  3.755102   3.8367345\n",
      " 3.9183674  4.        ]\n",
      "\n",
      "The content of 'c':\n",
      " [0.         0.08163265 0.1632653  0.24489796 0.3265306  0.40816325\n",
      " 0.48979592 0.57142854 0.6530612  0.7346939  0.8163265  0.8979592\n",
      " 0.97959185 1.0612245  1.1428571  1.2244898  1.3061224  1.387755\n",
      " 1.4693878  1.5510204  1.632653   1.7142857  1.7959183  1.877551\n",
      " 1.9591837  2.0408163  2.122449   2.2040815  2.2857141  2.367347\n",
      " 2.4489796  2.5306122  2.6122448  2.6938775  2.77551    2.8571427\n",
      " 2.9387755  3.0204082  3.1020408  3.1836734  3.265306   3.3469386\n",
      " 3.4285715  3.510204   3.5918367  3.6734693  3.755102   3.8367345\n",
      " 3.9183674  4.        ]\n",
      "\n"
     ]
    }
   ],
   "source": [
    "sess = tf.InteractiveSession()\n",
    "c = tf.linspace(0.0, 4.0, 50)\n",
    "print(\"The content of 'c':\\n {}\\n\".format(c.eval()))\n",
    "print(\"The content of 'c':\\n {}\\n\".format(c.eval()))\n",
    "sess.close()"
   ]
  },
  {
   "cell_type": "code",
   "execution_count": null,
   "metadata": {},
   "outputs": [],
   "source": []
  },
  {
   "cell_type": "code",
   "execution_count": null,
   "metadata": {},
   "outputs": [],
   "source": []
  }
 ],
 "metadata": {
  "kernelspec": {
   "display_name": "Python 3",
   "language": "python",
   "name": "python3"
  },
  "language_info": {
   "codemirror_mode": {
    "name": "ipython",
    "version": 3
   },
   "file_extension": ".py",
   "mimetype": "text/x-python",
   "name": "python",
   "nbconvert_exporter": "python",
   "pygments_lexer": "ipython3",
   "version": "3.6.4"
  }
 },
 "nbformat": 4,
 "nbformat_minor": 2
}
